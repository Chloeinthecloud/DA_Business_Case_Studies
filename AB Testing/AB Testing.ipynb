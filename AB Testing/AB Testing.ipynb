{
 "cells": [
  {
   "cell_type": "markdown",
   "id": "01703d6c",
   "metadata": {},
   "source": [
    "# A/B Testing Marketing Promotions"
   ]
  },
  {
   "cell_type": "raw",
   "id": "9a00bdb1",
   "metadata": {},
   "source": [
    "A fast food chain plans to add a new item to its menu. However, they are still undecided between three possible marketing campaigns for promoting the new product. In order to determine which promotion has the greatest effect on sales, the new item is introduced at locations in several randomly selected markets. A different promotion is used at each location, and the weekly sales of the new item are recorded for the first four weeks."
   ]
  },
  {
   "cell_type": "raw",
   "id": "568a52ac",
   "metadata": {},
   "source": [
    "Dataset: The data set consists of 548 entries including:\n",
    "- MarketId: an inhouse tag used to describe market types\n",
    "- AgeOfStores: Age of store in years (1-28). The mean age of a store is 8.5 years.\n",
    "- LocationID: Unique identifier for store location. Each location is identified by a number. The total numver of stores is 137.\n",
    "- Promotion: One of three promotions that were tested (1, 2, 3).\n",
    "- Sales in Thousands: Sales amount for a specific LocationID, Promotion and week. The mean amount of sales are 53.5 thousand dollars.\n",
    "- Market Size: there are three types of market size: small, medium and large.\n",
    "- Week: One of four weeks when the promotions were run (1-4)."
   ]
  },
  {
   "cell_type": "code",
   "execution_count": 1,
   "id": "6543da64",
   "metadata": {},
   "outputs": [
    {
     "data": {
      "text/html": [
       "<div>\n",
       "<style scoped>\n",
       "    .dataframe tbody tr th:only-of-type {\n",
       "        vertical-align: middle;\n",
       "    }\n",
       "\n",
       "    .dataframe tbody tr th {\n",
       "        vertical-align: top;\n",
       "    }\n",
       "\n",
       "    .dataframe thead th {\n",
       "        text-align: right;\n",
       "    }\n",
       "</style>\n",
       "<table border=\"1\" class=\"dataframe\">\n",
       "  <thead>\n",
       "    <tr style=\"text-align: right;\">\n",
       "      <th></th>\n",
       "      <th>MarketID</th>\n",
       "      <th>MarketSize</th>\n",
       "      <th>LocationID</th>\n",
       "      <th>AgeOfStore</th>\n",
       "      <th>Promotion</th>\n",
       "      <th>week</th>\n",
       "      <th>SalesInThousands</th>\n",
       "    </tr>\n",
       "  </thead>\n",
       "  <tbody>\n",
       "    <tr>\n",
       "      <th>0</th>\n",
       "      <td>1</td>\n",
       "      <td>Medium</td>\n",
       "      <td>1</td>\n",
       "      <td>4</td>\n",
       "      <td>3</td>\n",
       "      <td>1</td>\n",
       "      <td>33.73</td>\n",
       "    </tr>\n",
       "    <tr>\n",
       "      <th>1</th>\n",
       "      <td>1</td>\n",
       "      <td>Medium</td>\n",
       "      <td>1</td>\n",
       "      <td>4</td>\n",
       "      <td>3</td>\n",
       "      <td>2</td>\n",
       "      <td>35.67</td>\n",
       "    </tr>\n",
       "    <tr>\n",
       "      <th>2</th>\n",
       "      <td>1</td>\n",
       "      <td>Medium</td>\n",
       "      <td>1</td>\n",
       "      <td>4</td>\n",
       "      <td>3</td>\n",
       "      <td>3</td>\n",
       "      <td>29.03</td>\n",
       "    </tr>\n",
       "    <tr>\n",
       "      <th>3</th>\n",
       "      <td>1</td>\n",
       "      <td>Medium</td>\n",
       "      <td>1</td>\n",
       "      <td>4</td>\n",
       "      <td>3</td>\n",
       "      <td>4</td>\n",
       "      <td>39.25</td>\n",
       "    </tr>\n",
       "    <tr>\n",
       "      <th>4</th>\n",
       "      <td>1</td>\n",
       "      <td>Medium</td>\n",
       "      <td>2</td>\n",
       "      <td>5</td>\n",
       "      <td>2</td>\n",
       "      <td>1</td>\n",
       "      <td>27.81</td>\n",
       "    </tr>\n",
       "  </tbody>\n",
       "</table>\n",
       "</div>"
      ],
      "text/plain": [
       "   MarketID MarketSize  LocationID  AgeOfStore  Promotion  week  \\\n",
       "0         1     Medium           1           4          3     1   \n",
       "1         1     Medium           1           4          3     2   \n",
       "2         1     Medium           1           4          3     3   \n",
       "3         1     Medium           1           4          3     4   \n",
       "4         1     Medium           2           5          2     1   \n",
       "\n",
       "   SalesInThousands  \n",
       "0             33.73  \n",
       "1             35.67  \n",
       "2             29.03  \n",
       "3             39.25  \n",
       "4             27.81  "
      ]
     },
     "execution_count": 1,
     "metadata": {},
     "output_type": "execute_result"
    }
   ],
   "source": [
    "import pandas as pd\n",
    "import matplotlib.pyplot as plt\n",
    "df = pd.read_csv('Marketing-Campaign.csv')\n",
    "df.head()"
   ]
  },
  {
   "cell_type": "code",
   "execution_count": 2,
   "id": "31175152",
   "metadata": {},
   "outputs": [
    {
     "name": "stdout",
     "output_type": "stream",
     "text": [
      "Rows     :  548\n",
      "Columns  :  7\n",
      "\n",
      "Features : \n",
      " ['MarketID', 'MarketSize', 'LocationID', 'AgeOfStore', 'Promotion', 'week', 'SalesInThousands']\n",
      "\n",
      "Missing values :   0\n",
      "\n",
      "Unique values :  \n",
      " MarketID             10\n",
      "MarketSize            3\n",
      "LocationID          137\n",
      "AgeOfStore           25\n",
      "Promotion             3\n",
      "week                  4\n",
      "SalesInThousands    517\n",
      "dtype: int64\n"
     ]
    }
   ],
   "source": [
    "print ('Rows     : ' , df.shape[0])\n",
    "print ('Columns  : ' , df.shape[1])\n",
    "print ('\\nFeatures : \\n', df.columns.tolist())\n",
    "print ('\\nMissing values :  ', df.isnull().sum().values.sum())\n",
    "print ('\\nUnique values :  \\n', df.nunique())"
   ]
  },
  {
   "cell_type": "code",
   "execution_count": 3,
   "id": "70b73a08",
   "metadata": {},
   "outputs": [
    {
     "data": {
      "text/html": [
       "<div>\n",
       "<style scoped>\n",
       "    .dataframe tbody tr th:only-of-type {\n",
       "        vertical-align: middle;\n",
       "    }\n",
       "\n",
       "    .dataframe tbody tr th {\n",
       "        vertical-align: top;\n",
       "    }\n",
       "\n",
       "    .dataframe thead th {\n",
       "        text-align: right;\n",
       "    }\n",
       "</style>\n",
       "<table border=\"1\" class=\"dataframe\">\n",
       "  <thead>\n",
       "    <tr style=\"text-align: right;\">\n",
       "      <th></th>\n",
       "      <th>MarketID</th>\n",
       "      <th>LocationID</th>\n",
       "      <th>AgeOfStore</th>\n",
       "      <th>Promotion</th>\n",
       "      <th>week</th>\n",
       "      <th>SalesInThousands</th>\n",
       "    </tr>\n",
       "  </thead>\n",
       "  <tbody>\n",
       "    <tr>\n",
       "      <th>count</th>\n",
       "      <td>548.000000</td>\n",
       "      <td>548.000000</td>\n",
       "      <td>548.000000</td>\n",
       "      <td>548.000000</td>\n",
       "      <td>548.000000</td>\n",
       "      <td>548.000000</td>\n",
       "    </tr>\n",
       "    <tr>\n",
       "      <th>mean</th>\n",
       "      <td>5.715328</td>\n",
       "      <td>479.656934</td>\n",
       "      <td>8.503650</td>\n",
       "      <td>2.029197</td>\n",
       "      <td>2.500000</td>\n",
       "      <td>53.466204</td>\n",
       "    </tr>\n",
       "    <tr>\n",
       "      <th>std</th>\n",
       "      <td>2.877001</td>\n",
       "      <td>287.973679</td>\n",
       "      <td>6.638345</td>\n",
       "      <td>0.810729</td>\n",
       "      <td>1.119055</td>\n",
       "      <td>16.755216</td>\n",
       "    </tr>\n",
       "    <tr>\n",
       "      <th>min</th>\n",
       "      <td>1.000000</td>\n",
       "      <td>1.000000</td>\n",
       "      <td>1.000000</td>\n",
       "      <td>1.000000</td>\n",
       "      <td>1.000000</td>\n",
       "      <td>17.340000</td>\n",
       "    </tr>\n",
       "    <tr>\n",
       "      <th>25%</th>\n",
       "      <td>3.000000</td>\n",
       "      <td>216.000000</td>\n",
       "      <td>4.000000</td>\n",
       "      <td>1.000000</td>\n",
       "      <td>1.750000</td>\n",
       "      <td>42.545000</td>\n",
       "    </tr>\n",
       "    <tr>\n",
       "      <th>50%</th>\n",
       "      <td>6.000000</td>\n",
       "      <td>504.000000</td>\n",
       "      <td>7.000000</td>\n",
       "      <td>2.000000</td>\n",
       "      <td>2.500000</td>\n",
       "      <td>50.200000</td>\n",
       "    </tr>\n",
       "    <tr>\n",
       "      <th>75%</th>\n",
       "      <td>8.000000</td>\n",
       "      <td>708.000000</td>\n",
       "      <td>12.000000</td>\n",
       "      <td>3.000000</td>\n",
       "      <td>3.250000</td>\n",
       "      <td>60.477500</td>\n",
       "    </tr>\n",
       "    <tr>\n",
       "      <th>max</th>\n",
       "      <td>10.000000</td>\n",
       "      <td>920.000000</td>\n",
       "      <td>28.000000</td>\n",
       "      <td>3.000000</td>\n",
       "      <td>4.000000</td>\n",
       "      <td>99.650000</td>\n",
       "    </tr>\n",
       "  </tbody>\n",
       "</table>\n",
       "</div>"
      ],
      "text/plain": [
       "         MarketID  LocationID  AgeOfStore   Promotion        week  \\\n",
       "count  548.000000  548.000000  548.000000  548.000000  548.000000   \n",
       "mean     5.715328  479.656934    8.503650    2.029197    2.500000   \n",
       "std      2.877001  287.973679    6.638345    0.810729    1.119055   \n",
       "min      1.000000    1.000000    1.000000    1.000000    1.000000   \n",
       "25%      3.000000  216.000000    4.000000    1.000000    1.750000   \n",
       "50%      6.000000  504.000000    7.000000    2.000000    2.500000   \n",
       "75%      8.000000  708.000000   12.000000    3.000000    3.250000   \n",
       "max     10.000000  920.000000   28.000000    3.000000    4.000000   \n",
       "\n",
       "       SalesInThousands  \n",
       "count        548.000000  \n",
       "mean          53.466204  \n",
       "std           16.755216  \n",
       "min           17.340000  \n",
       "25%           42.545000  \n",
       "50%           50.200000  \n",
       "75%           60.477500  \n",
       "max           99.650000  "
      ]
     },
     "execution_count": 3,
     "metadata": {},
     "output_type": "execute_result"
    }
   ],
   "source": [
    "df.describe()"
   ]
  },
  {
   "cell_type": "markdown",
   "id": "70363449",
   "metadata": {},
   "source": [
    "## EDA and Visualizations"
   ]
  },
  {
   "cell_type": "code",
   "execution_count": 4,
   "id": "3da439ef",
   "metadata": {},
   "outputs": [
    {
     "data": {
      "image/png": "[encoded data removed]",
      "text/plain": [
       "<Figure size 576x576 with 1 Axes>"
      ]
     },
     "metadata": {},
     "output_type": "display_data"
    }
   ],
   "source": [
    "# Create some plots to visual our sales and marketing data\n",
    "# Using ggplot's style\n",
    "plt.style.use('ggplot')\n",
    "ax = df.groupby('Promotion').sum()['SalesInThousands'].plot.pie(figsize=(8,8),\n",
    "                                                               autopct='%1.0f%%',\n",
    "                                                               shadow=True,\n",
    "                                                               explode=(0,0.1,0))\n",
    "ax.set_ylabel('')\n",
    "ax.set_title('Sales Distribution Across the 3 Different Promotions')\n",
    "plt.show()"
   ]
  },
  {
   "cell_type": "code",
   "execution_count": 5,
   "id": "bbc13653",
   "metadata": {},
   "outputs": [
    {
     "data": {
      "text/plain": [
       "Promotion  MarketSize\n",
       "1          Large          56\n",
       "           Medium         96\n",
       "           Small          20\n",
       "2          Large          64\n",
       "           Medium        108\n",
       "           Small          16\n",
       "3          Large          48\n",
       "           Medium        116\n",
       "           Small          24\n",
       "Name: MarketID, dtype: int64"
      ]
     },
     "execution_count": 5,
     "metadata": {},
     "output_type": "execute_result"
    }
   ],
   "source": [
    "# Now let's view the promotions for each market size\n",
    "df.groupby(['Promotion','MarketSize']).count()['MarketID']"
   ]
  },
  {
   "cell_type": "code",
   "execution_count": 6,
   "id": "25adf095",
   "metadata": {},
   "outputs": [
    {
     "data": {
      "text/html": [
       "<div>\n",
       "<style scoped>\n",
       "    .dataframe tbody tr th:only-of-type {\n",
       "        vertical-align: middle;\n",
       "    }\n",
       "\n",
       "    .dataframe tbody tr th {\n",
       "        vertical-align: top;\n",
       "    }\n",
       "\n",
       "    .dataframe thead th {\n",
       "        text-align: right;\n",
       "    }\n",
       "</style>\n",
       "<table border=\"1\" class=\"dataframe\">\n",
       "  <thead>\n",
       "    <tr style=\"text-align: right;\">\n",
       "      <th>MarketSize</th>\n",
       "      <th>Large</th>\n",
       "      <th>Medium</th>\n",
       "      <th>Small</th>\n",
       "    </tr>\n",
       "    <tr>\n",
       "      <th>Promotion</th>\n",
       "      <th></th>\n",
       "      <th></th>\n",
       "      <th></th>\n",
       "    </tr>\n",
       "  </thead>\n",
       "  <tbody>\n",
       "    <tr>\n",
       "      <th>1</th>\n",
       "      <td>56</td>\n",
       "      <td>96</td>\n",
       "      <td>20</td>\n",
       "    </tr>\n",
       "    <tr>\n",
       "      <th>2</th>\n",
       "      <td>64</td>\n",
       "      <td>108</td>\n",
       "      <td>16</td>\n",
       "    </tr>\n",
       "    <tr>\n",
       "      <th>3</th>\n",
       "      <td>48</td>\n",
       "      <td>116</td>\n",
       "      <td>24</td>\n",
       "    </tr>\n",
       "  </tbody>\n",
       "</table>\n",
       "</div>"
      ],
      "text/plain": [
       "MarketSize  Large  Medium  Small\n",
       "Promotion                       \n",
       "1              56      96     20\n",
       "2              64     108     16\n",
       "3              48     116     24"
      ]
     },
     "execution_count": 6,
     "metadata": {},
     "output_type": "execute_result"
    }
   ],
   "source": [
    "# Using unstack\n",
    "df.groupby(['Promotion','MarketSize']).count()['MarketID'].unstack('MarketSize')"
   ]
  },
  {
   "cell_type": "code",
   "execution_count": 7,
   "id": "14ae1412",
   "metadata": {},
   "outputs": [
    {
     "data": {
      "image/png": "[encoded data removed]",
      "text/plain": [
       "<Figure size 864x720 with 1 Axes>"
      ]
     },
     "metadata": {},
     "output_type": "display_data"
    }
   ],
   "source": [
    "# Put this into a plot\n",
    "ax = df.groupby(['Promotion','MarketSize']).count()['MarketID'].unstack('MarketSize').plot(\n",
    "     kind='bar',\n",
    "     figsize=(12,10),\n",
    "     grid=True)\n",
    "ax.set_ylabel('count')\n",
    "ax.set_title('Breakdowns of Market Sizes Across Different Promotions')\n",
    "plt.show()"
   ]
  },
  {
   "cell_type": "code",
   "execution_count": 8,
   "id": "c4135643",
   "metadata": {},
   "outputs": [
    {
     "data": {
      "image/png": "[encoded data removed]",
      "text/plain": [
       "<Figure size 864x504 with 1 Axes>"
      ]
     },
     "metadata": {},
     "output_type": "display_data"
    }
   ],
   "source": [
    "ax = df.groupby('AgeOfStore').count()['MarketID'].plot(\n",
    "     kind='bar',\n",
    "     figsize=(12,7),\n",
    "     grid=True)\n",
    "ax.set_xlabel('age')\n",
    "ax.set_ylabel('count')\n",
    "ax.set_title('Overall Distribution of Store Ages')\n",
    "plt.show()"
   ]
  },
  {
   "cell_type": "code",
   "execution_count": 9,
   "id": "6312f702",
   "metadata": {},
   "outputs": [
    {
     "data": {
      "text/plain": [
       "AgeOfStore  Promotion\n",
       "1           1            24\n",
       "            2            36\n",
       "            3            20\n",
       "2           1             8\n",
       "            2             8\n",
       "            3             4\n",
       "3           1            16\n",
       "            2            12\n",
       "            3             4\n",
       "4           1            16\n",
       "            2            12\n",
       "            3            16\n",
       "5           1             8\n",
       "            2            12\n",
       "            3            24\n",
       "6           1            20\n",
       "            2             4\n",
       "            3            12\n",
       "7           1             4\n",
       "            2            24\n",
       "            3            12\n",
       "8           1            12\n",
       "            2             8\n",
       "            3            20\n",
       "9           1             8\n",
       "            2            12\n",
       "            3             8\n",
       "10          2            16\n",
       "            3             8\n",
       "11          1             4\n",
       "            3            12\n",
       "12          1            12\n",
       "            2             4\n",
       "            3             8\n",
       "13          1            12\n",
       "            2             8\n",
       "14          2             8\n",
       "            3             4\n",
       "15          1             4\n",
       "            2             4\n",
       "17          3             4\n",
       "18          1             8\n",
       "19          1             4\n",
       "            2             8\n",
       "            3             8\n",
       "20          3             4\n",
       "22          1             4\n",
       "            3             8\n",
       "23          2             4\n",
       "            3             4\n",
       "24          1             4\n",
       "            3             8\n",
       "25          2             4\n",
       "27          1             4\n",
       "28          2             4\n",
       "Name: MarketID, dtype: int64"
      ]
     },
     "execution_count": 9,
     "metadata": {},
     "output_type": "execute_result"
    }
   ],
   "source": [
    "df.groupby(['AgeOfStore','Promotion']).count()['MarketID']"
   ]
  },
  {
   "cell_type": "code",
   "execution_count": 10,
   "id": "3c52a1cd",
   "metadata": {},
   "outputs": [
    {
     "data": {
      "image/png": "[encoded data removed]",
      "text/plain": [
       "<Figure size 1008x1296 with 1 Axes>"
      ]
     },
     "metadata": {},
     "output_type": "display_data"
    }
   ],
   "source": [
    "# Visualize this summary\n",
    "ax = df.groupby(['AgeOfStore','Promotion']).count()['MarketID'].unstack('Promotion').iloc[::-1].plot(\n",
    "     kind='barh',\n",
    "     figsize=(14,18),\n",
    "     grid=True)\n",
    "ax.set_ylabel('age')\n",
    "ax.set_xlabel('count')\n",
    "ax.set_title('Overall Distributions of Age of Store')\n",
    "\n",
    "plt.show()"
   ]
  },
  {
   "cell_type": "code",
   "execution_count": 11,
   "id": "fb6aebc5",
   "metadata": {},
   "outputs": [
    {
     "data": {
      "text/html": [
       "<div>\n",
       "<style scoped>\n",
       "    .dataframe tbody tr th:only-of-type {\n",
       "        vertical-align: middle;\n",
       "    }\n",
       "\n",
       "    .dataframe tbody tr th {\n",
       "        vertical-align: top;\n",
       "    }\n",
       "\n",
       "    .dataframe thead th {\n",
       "        text-align: right;\n",
       "    }\n",
       "</style>\n",
       "<table border=\"1\" class=\"dataframe\">\n",
       "  <thead>\n",
       "    <tr style=\"text-align: right;\">\n",
       "      <th></th>\n",
       "      <th>count</th>\n",
       "      <th>mean</th>\n",
       "      <th>std</th>\n",
       "      <th>min</th>\n",
       "      <th>25%</th>\n",
       "      <th>50%</th>\n",
       "      <th>75%</th>\n",
       "      <th>max</th>\n",
       "    </tr>\n",
       "    <tr>\n",
       "      <th>Promotion</th>\n",
       "      <th></th>\n",
       "      <th></th>\n",
       "      <th></th>\n",
       "      <th></th>\n",
       "      <th></th>\n",
       "      <th></th>\n",
       "      <th></th>\n",
       "      <th></th>\n",
       "    </tr>\n",
       "  </thead>\n",
       "  <tbody>\n",
       "    <tr>\n",
       "      <th>1</th>\n",
       "      <td>172.0</td>\n",
       "      <td>8.279070</td>\n",
       "      <td>6.636160</td>\n",
       "      <td>1.0</td>\n",
       "      <td>3.0</td>\n",
       "      <td>6.0</td>\n",
       "      <td>12.0</td>\n",
       "      <td>27.0</td>\n",
       "    </tr>\n",
       "    <tr>\n",
       "      <th>2</th>\n",
       "      <td>188.0</td>\n",
       "      <td>7.978723</td>\n",
       "      <td>6.597648</td>\n",
       "      <td>1.0</td>\n",
       "      <td>3.0</td>\n",
       "      <td>7.0</td>\n",
       "      <td>10.0</td>\n",
       "      <td>28.0</td>\n",
       "    </tr>\n",
       "    <tr>\n",
       "      <th>3</th>\n",
       "      <td>188.0</td>\n",
       "      <td>9.234043</td>\n",
       "      <td>6.651646</td>\n",
       "      <td>1.0</td>\n",
       "      <td>5.0</td>\n",
       "      <td>8.0</td>\n",
       "      <td>12.0</td>\n",
       "      <td>24.0</td>\n",
       "    </tr>\n",
       "  </tbody>\n",
       "</table>\n",
       "</div>"
      ],
      "text/plain": [
       "           count      mean       std  min  25%  50%   75%   max\n",
       "Promotion                                                      \n",
       "1          172.0  8.279070  6.636160  1.0  3.0  6.0  12.0  27.0\n",
       "2          188.0  7.978723  6.597648  1.0  3.0  7.0  10.0  28.0\n",
       "3          188.0  9.234043  6.651646  1.0  5.0  8.0  12.0  24.0"
      ]
     },
     "execution_count": 11,
     "metadata": {},
     "output_type": "execute_result"
    }
   ],
   "source": [
    "df.groupby('Promotion').describe()['AgeOfStore']"
   ]
  },
  {
   "cell_type": "markdown",
   "id": "b485098d",
   "metadata": {},
   "source": [
    "## Performing A/B Testing"
   ]
  },
  {
   "cell_type": "code",
   "execution_count": 12,
   "id": "106d62c8",
   "metadata": {},
   "outputs": [
    {
     "name": "stdout",
     "output_type": "stream",
     "text": [
      "Promotion\n",
      "1    58.099012\n",
      "2    47.329415\n",
      "3    55.364468\n",
      "Name: SalesInThousands, dtype: float64\n",
      "Promotion\n",
      "1    16.553782\n",
      "2    15.108955\n",
      "3    16.766231\n",
      "Name: SalesInThousands, dtype: float64\n",
      "Promotion\n",
      "1    172\n",
      "2    188\n",
      "3    188\n",
      "Name: SalesInThousands, dtype: int64\n"
     ]
    }
   ],
   "source": [
    "means = df.groupby('Promotion').mean()['SalesInThousands']\n",
    "stds = df.groupby('Promotion').std()['SalesInThousands']\n",
    "ns = df.groupby('Promotion').count()['SalesInThousands']\n",
    "print(means)\n",
    "print(stds)\n",
    "print(ns)"
   ]
  },
  {
   "cell_type": "markdown",
   "id": "94404d07",
   "metadata": {},
   "source": [
    "## Comparing Promotion 1 VS Promotion 2 in an A/B Test"
   ]
  },
  {
   "cell_type": "code",
   "execution_count": 13,
   "id": "e4144262",
   "metadata": {},
   "outputs": [
    {
     "name": "stdout",
     "output_type": "stream",
     "text": [
      "t-value = 6.42752867090748\n",
      "p-value = 4.2903687179871785e-10\n"
     ]
    }
   ],
   "source": [
    "from scipy import stats\n",
    "t, p = stats.ttest_ind(df.loc[df['Promotion']== 1, 'SalesInThousands'].values,\n",
    "                      df.loc[df['Promotion']== 2, 'SalesInThousands'].values,\n",
    "                      equal_var = False)\n",
    "print('t-value = ' + str(t))\n",
    "print('p-value = ' + str(p))"
   ]
  },
  {
   "cell_type": "markdown",
   "id": "c1431707",
   "metadata": {},
   "source": [
    "## Analysis of P and t-values"
   ]
  },
  {
   "cell_type": "raw",
   "id": "cb338c9f",
   "metadata": {},
   "source": [
    "The P-Value is close to 0 which suggests that there is good evidence to REJECT the NULL Hypothesis. It means that there is a statistical difference between the two groups. Our threshold rejectings the Null is ususally less than 0.05.\n",
    "The T-test shows that the marketing performances for these two groups are significantly different and that promotion group 1 outperforms promotion group 2."
   ]
  },
  {
   "cell_type": "markdown",
   "id": "30f62902",
   "metadata": {},
   "source": [
    "## Comparing Promotion 1 VS Promotion 3 in an A/B Test"
   ]
  },
  {
   "cell_type": "code",
   "execution_count": 14,
   "id": "33ba1173",
   "metadata": {},
   "outputs": [
    {
     "name": "stdout",
     "output_type": "stream",
     "text": [
      "t-value = 1.5560224307758634\n",
      "p-value = 0.12059147742229478\n"
     ]
    }
   ],
   "source": [
    "t, p = stats.ttest_ind(\n",
    "     df.loc[df['Promotion']== 1, 'SalesInThousands'].values,\n",
    "     df.loc[df['Promotion']== 3, 'SalesInThousands'].values,\n",
    "     equal_var = False)\n",
    "print('t-value = ' +str(t))\n",
    "print('p-value = ' +str(p))"
   ]
  },
  {
   "cell_type": "markdown",
   "id": "1bba9543",
   "metadata": {},
   "source": [
    "## Analysis of P and t-values"
   ]
  },
  {
   "cell_type": "raw",
   "id": "b956fa96",
   "metadata": {},
   "source": [
    "We note that the average sales from promotion group 1 is 58.1, which is higher than those from promotion group 2 (55.36), but running a t-test between these two groups, gives us a t-value of 1.556 and a p-value of 0.121.\n",
    "The computed p-value is a lot higher than 0.05, past the threshold for statistical significance."
   ]
  }
 ],
 "metadata": {
  "kernelspec": {
   "display_name": "Python 3 (ipykernel)",
   "language": "python",
   "name": "python3"
  },
  "language_info": {
   "codemirror_mode": {
    "name": "ipython",
    "version": 3
   },
   "file_extension": ".py",
   "mimetype": "text/x-python",
   "name": "python",
   "nbconvert_exporter": "python",
   "pygments_lexer": "ipython3",
   "version": "3.9.7"
  }
 },
 "nbformat": 4,
 "nbformat_minor": 5
}
